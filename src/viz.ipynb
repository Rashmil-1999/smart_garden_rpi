{
 "cells": [
  {
   "cell_type": "code",
   "execution_count": 38,
   "metadata": {},
   "outputs": [],
   "source": [
    "from typing import Dict, List, Optional, Tuple\n",
    "\n",
    "import matplotlib.pyplot as plt\n",
    "from matplotlib.pyplot import Axes\n",
    "import numpy as np\n",
    "import pathlib\n",
    "from utils import read_json, write_json\n",
    "from collections import defaultdict\n",
    "import statistics\n",
    "\n",
    "from constants import RFID_DATA_FOLDER"
   ]
  },
  {
   "cell_type": "code",
   "execution_count": 44,
   "metadata": {},
   "outputs": [],
   "source": [
    "automated_testing_folder: pathlib.Path = RFID_DATA_FOLDER / \"automated_test\"\n",
    "time_str_tested: pathlib.Path = \"20220430-171258\"\n",
    "# data_folder: pathlib.Path = automated_testing_folder / time_str_tested\n",
    "data_folder: pathlib.Path = automated_testing_folder\n",
    "\n",
    "keys: List[str] = [\n",
    "    \"bottom_boxes\", \n",
    "    \"bottom_shelf\", \n",
    "    \"mid_boxes\", \n",
    "    \"mid_shelf\", \n",
    "    \"top_boxes\", \n",
    "    \"top_shelf\"\n",
    "]\n",
    "\n",
    "moistures: List[str] = [\n",
    "    '0',\n",
    "    '15',\n",
    "    '30',\n",
    "    '45',\n",
    "    '65',\n",
    "    '80',\n",
    "    '90'    \n",
    "]"
   ]
  },
  {
   "cell_type": "code",
   "execution_count": 45,
   "metadata": {},
   "outputs": [
    {
     "name": "stdout",
     "output_type": "stream",
     "text": [
      "/Users/sam/UofI/smart_garden_rpi/src/rpi_io/sllurp-measurements/data/automated_test\n"
     ]
    }
   ],
   "source": [
    "print(data_folder)\n",
    "# print(RFID_DATA_FOLDER)"
   ]
  },
  {
   "cell_type": "code",
   "execution_count": 46,
   "metadata": {},
   "outputs": [],
   "source": [
    "def read_data_folder(base_dir: pathlib.Path, keys_list: List[str]) -> Dict[str, dict]: \n",
    "    moisture_level_folders: List[pathlib.Path] = [path for path in base_dir.iterdir() if path.is_dir()]\n",
    "    complete_data: Dict[str, dict] = dict()\n",
    "\n",
    "    for path in moisture_level_folders:\n",
    "        if path.name == \"automated_test\":\n",
    "            continue\n",
    "        complete_data[path.name] = dict()\n",
    "        for file in keys_list:\n",
    "            data: dict = read_json(path / (file + \".json\"))\n",
    "            complete_data[path.name][file] = data\n",
    "    \n",
    "    return complete_data\n",
    "\n",
    "def read_new_data_folder(base_dir: pathlib.Path, key_list: List[str], moistures: List[str]) -> Dict[str, dict]: \n",
    "    # moisture_level_folders: List[pathlib.Path] = [path for path in base_dir.iterdir()]\n",
    "    complete_data: Dict[str, dict] = dict()\n",
    "\n",
    "    for mois in moistures:\n",
    "        name: str = str(mois) + \"percent\"\n",
    "        complete_data[name] = dict()\n",
    "        for file in key_list:\n",
    "            data: dict = read_json(base_dir / (name + file + \".json\"))\n",
    "            complete_data[name][file] = data\n",
    "    \n",
    "    return complete_data"
   ]
  },
  {
   "cell_type": "code",
   "execution_count": 47,
   "metadata": {},
   "outputs": [],
   "source": [
    "# complete_data: Dict[str, dict] = read_data_folder(RFID_DATA_FOLDER, keys)\n",
    "complete_data_new: Dict[str, dict] = read_new_data_folder(data_folder, keys, moistures)"
   ]
  },
  {
   "cell_type": "code",
   "execution_count": null,
   "metadata": {},
   "outputs": [],
   "source": [
    "print(complete_data_new)"
   ]
  },
  {
   "cell_type": "code",
   "execution_count": 48,
   "metadata": {},
   "outputs": [
    {
     "name": "stdout",
     "output_type": "stream",
     "text": [
      "dict_keys(['0percent', '15percent', '30percent', '45percent', '65percent', '80percent', '90percent'])\n",
      "dict_keys(['bottom_boxes', 'bottom_shelf', 'mid_boxes', 'mid_shelf', 'top_boxes', 'top_shelf'])\n",
      "dict_keys(['min_Tx_power', 'rssi_vals'])\n",
      "dict_keys(['e280689000000001a2fa42ac', 'e280689000000001a33707c4', 'e280689000000001a2f9e48e', 'e280689000000001a2f9fb4d'])\n",
      "dict_keys(['e280689000000001a2fa42ac', 'e280689000000001a2f9e48e', 'e280689000000001a33707c4', 'e280689000000001a2f9fb4d'])\n",
      "dict_keys(['tag_info', 'peak_rssi', 'rssi'])\n",
      "[-41, -39, -39, -39, -42, -47, -49, -49, -40, -42, -42, -42, -39, -47, -45, -45, -49, -43, -42, -42, -44, -41, -39, -39, -44, -44, -43, -43, -45, -44, -44, -45, -44, -39, -39, -50, -46, -40, -40, -41, -48, -47, -47, -39, -48, -48, -42, -41, -41, -41, -40, -40, -40, -41, -42, -43, -43, -49, -40, -48, -40, -40, -44, -40, -38, -38, -42, -41, -40, -40, -39, -42, -42, -47, -49, -40, -40, -42, -41, -39, -39, -47, -45, -49, -43, -43, -42, -44, -44, -41, -39, -39, -45, -45, -43, -45, -44, -44, -45, -45, -44, -40, -49, -46, -46, -40, -41, -48, -48, -46, -39, -49, -49, -42, -41, -41, -40, -40, -40, -41, -41, -43, -43, -43, -49, -40, -48, -40, -40, -44, -40, -38, -38, -41, -41, -41, -40, -39, -39, -42, -47, -49, -40, -40, -42, -41, -39, -39, -47, -45, -45, -49, -43, -42, -42, -44, -41, -41, -39, -45, -44, -44, -43, -45, -44, -44, -45, -44, -39, -39, -50, -46, -40, -40, -41, -48, -48, -47, -39, -48, -42, -42, -41, -40, -41, -40, -40, -41, -41, -42, -43, -43, -49, -40, -49, -40, -40, -44, -40, -38]\n"
     ]
    }
   ],
   "source": [
    "# print(complete_data.keys())\n",
    "# print(complete_data[\"0percent\"].keys())\n",
    "# print(complete_data[\"0percent\"][\"bottom_boxes\"].keys())\n",
    "# print(complete_data[\"0percent\"][\"bottom_boxes\"][\"min_Tx_power\"].keys())\n",
    "# print(complete_data[\"0percent\"][\"bottom_boxes\"][\"rssi_vals\"].keys())\n",
    "# print(complete_data[\"0percent\"][\"bottom_boxes\"][\"rssi_vals\"][\"e280689000000001a33707c4\"].keys())\n",
    "\n",
    "print(complete_data_new.keys())\n",
    "print(complete_data_new[\"0percent\"].keys())\n",
    "print(complete_data_new[\"0percent\"][\"mid_boxes\"].keys())\n",
    "print(complete_data_new[\"0percent\"][\"mid_boxes\"][\"min_Tx_power\"].keys())\n",
    "print(complete_data_new[\"0percent\"][\"mid_boxes\"][\"rssi_vals\"].keys())\n",
    "print(complete_data_new[\"0percent\"][\"mid_boxes\"][\"rssi_vals\"][\"e280689000000001a33707c4\"].keys())\n",
    "print(complete_data_new[\"0percent\"][\"mid_boxes\"][\"rssi_vals\"][\"e280689000000001a33707c4\"][\"peak_rssi\"])\n"
   ]
  },
  {
   "cell_type": "code",
   "execution_count": 49,
   "metadata": {},
   "outputs": [],
   "source": [
    "# tag_list = ['e280689000000001a33707c4', 'e280689000000001a2fa42ca', 'e280689000000001a2fa42ac', 'e280689000000001a2f9e48e']\n",
    "tag_list = ['e280689000000001a33707c4', 'e280689000000001a2f9fb4d', 'e280689000000001a2fa42ac', 'e280689000000001a2f9e48e']\n",
    "position = \"mid_boxes\"\n",
    "xs = [0, 15, 30, 45, 65, 80, 90]\n",
    "# xs = [0]"
   ]
  },
  {
   "cell_type": "code",
   "execution_count": 50,
   "metadata": {},
   "outputs": [
    {
     "name": "stdout",
     "output_type": "stream",
     "text": [
      "{'e280689000000001a33707c4': {'tag': 'tag_3', 'EPC-96': 'e280689000000001a33707c4', 'location': 'bottom_front'}, 'e280689000000001a2f9fb4d': {'tag': 'tag_5', 'EPC-96': 'e280689000000001a2f9fb4d', 'location': 'air'}, 'e280689000000001a2fa42ac': {'tag': 'tag_4', 'EPC-96': 'e280689000000001a2fa42ac', 'location': 'bottom_back'}, 'e280689000000001a2f9e48e': {'tag': 'tag_2', 'EPC-96': 'e280689000000001a2f9e48e', 'location': 'rim'}}\n"
     ]
    }
   ],
   "source": [
    "tag_info: dict = dict()\n",
    "for _, tag in enumerate(tag_list):\n",
    "    tag_info[tag] = complete_data_new[f\"{xs[0]}percent\"][position][\"rssi_vals\"][tag][\"tag_info\"]\n",
    "print(tag_info)"
   ]
  },
  {
   "cell_type": "code",
   "execution_count": 71,
   "metadata": {},
   "outputs": [],
   "source": [
    "def plot_rssi(position: str) -> Tuple[List[float], List[float], List[float]]:\n",
    "    global tag_list, complete_data_new, xs    \n",
    "    # rssi vals\n",
    "    rssi_ys = []\n",
    "    rssi_xs = []\n",
    "    peak_rssi_ys = []\n",
    "    peak_rssi_xs = []\n",
    "    mrt_ys = []\n",
    "    mrt_xs = []\n",
    "    for tag in tag_list:\n",
    "        rssi_readings = []\n",
    "        rssi_readings_xs = []\n",
    "        peak_rssi_readings = []\n",
    "        peak_rssi_readings_xs = []\n",
    "        mrt_readings = []\n",
    "        mrt_readings_xs = []\n",
    "        for mois_level in xs:\n",
    "            # print(mois_level)\n",
    "            rssi = complete_data_new[f\"{mois_level}percent\"][position][\"rssi_vals\"].get(tag, None)\n",
    "            mrt = complete_data_new[f\"{mois_level}percent\"][position][\"min_Tx_power\"].get(tag, None)\n",
    "            if rssi is not None:\n",
    "                rssi_readings_xs.append(mois_level)\n",
    "                peak_rssi_readings_xs.append(mois_level)\n",
    "                rssi_readings.append(statistics.mean(rssi[\"rssi\"]))\n",
    "                peak_rssi_readings.append(statistics.mean(rssi[\"peak_rssi\"]))\n",
    "            \n",
    "            if mrt is not None:\n",
    "                mrt_readings_xs.append(mois_level)\n",
    "                mrt_readings.append(statistics.mean(mrt))\n",
    "        \n",
    "        rssi_xs.append(rssi_readings_xs)\n",
    "        rssi_ys.append(rssi_readings)\n",
    "        \n",
    "        peak_rssi_xs.append(peak_rssi_readings_xs)\n",
    "        peak_rssi_ys.append(peak_rssi_readings)\n",
    "        \n",
    "        mrt_xs.append(mrt_readings_xs)\n",
    "        mrt_ys.append(mrt_readings)\n",
    "        \n",
    "\n",
    "    axes: Optional[Axes] = None \n",
    "\n",
    "    fig, axes = plt.subplots(1,3, figsize=(20,5))\n",
    "\n",
    "    for i, tag in enumerate(tag_list):\n",
    "        # print(complete_data[f\"{xs[i]}percent\"][position][\"rssi_vals\"][tag][\"tag_info\"][\"location\"])\n",
    "        if complete_data_new[f\"{xs[0]}percent\"][position][\"rssi_vals\"].get(tag, None) is not None:\n",
    "            axes[0].plot(rssi_xs[i], rssi_ys[i], label=complete_data_new[f\"{xs[0]}percent\"][position][\"rssi_vals\"][tag][\"tag_info\"][\"location\"])\n",
    "    axes[0].set_title(\"RSSI values\")\n",
    "    axes[0].legend()\n",
    "\n",
    "    for i, tag in enumerate(tag_list):\n",
    "        # print(complete_data[f\"{xs[i]}percent\"][position][\"rssi_vals\"][tag][\"tag_info\"][\"location\"])\n",
    "        if complete_data_new[f\"{xs[0]}percent\"][position][\"rssi_vals\"].get(tag, None) is not None:\n",
    "            axes[1].plot(peak_rssi_xs[i], peak_rssi_ys[i], label=complete_data_new[f\"{xs[0]}percent\"][position][\"rssi_vals\"][tag][\"tag_info\"][\"location\"])\n",
    "    axes[1].set_title(\"Peak RSSI values\")\n",
    "    axes[1].legend()\n",
    "    \n",
    "    for i, tag in enumerate(tag_list):\n",
    "        # print(complete_data[f\"{xs[i]}percent\"][position][\"rssi_vals\"][tag][\"tag_info\"][\"location\"])\n",
    "        if complete_data_new[f\"{xs[0]}percent\"][position][\"rssi_vals\"].get(tag, None) is not None:\n",
    "            axes[2].plot(mrt_xs[i], mrt_ys[i], label=complete_data_new[f\"{xs[0]}percent\"][position][\"rssi_vals\"][tag][\"tag_info\"][\"location\"])\n",
    "    axes[2].set_title(\"Minimum Response Threshold\")\n",
    "    axes[2].legend()\n",
    "    # fig.show()\n",
    "    plt.suptitle(position)\n",
    "    return rssi_ys, peak_rssi_ys, mrt_ys"
   ]
  },
  {
   "cell_type": "code",
   "execution_count": 70,
   "metadata": {},
   "outputs": [
    {
     "name": "stdout",
     "output_type": "stream",
     "text": [
      "Bottom\n"
     ]
    },
    {
     "ename": "TypeError",
     "evalue": "can't convert type 'str' to numerator/denominator",
     "output_type": "error",
     "traceback": [
      "\u001b[0;31m---------------------------------------------------------------------------\u001b[0m",
      "\u001b[0;31mTypeError\u001b[0m                                 Traceback (most recent call last)",
      "\u001b[0;32m/var/folders/4v/_zy9zlp16734lmyjlg40wsn80000gn/T/ipykernel_41773/4033281414.py\u001b[0m in \u001b[0;36m<module>\u001b[0;34m\u001b[0m\n\u001b[1;32m     12\u001b[0m \u001b[0;31m#     }\u001b[0m\u001b[0;34m\u001b[0m\u001b[0;34m\u001b[0m\u001b[0;34m\u001b[0m\u001b[0m\n\u001b[1;32m     13\u001b[0m \u001b[0mprint\u001b[0m\u001b[0;34m(\u001b[0m\u001b[0;34m\"Bottom\"\u001b[0m\u001b[0;34m)\u001b[0m\u001b[0;34m\u001b[0m\u001b[0;34m\u001b[0m\u001b[0m\n\u001b[0;32m---> 14\u001b[0;31m \u001b[0mplot_rssi\u001b[0m\u001b[0;34m(\u001b[0m\u001b[0;34m\"bottom_boxes\"\u001b[0m\u001b[0;34m)\u001b[0m\u001b[0;34m\u001b[0m\u001b[0;34m\u001b[0m\u001b[0m\n\u001b[0m\u001b[1;32m     15\u001b[0m \u001b[0mplot_rssi\u001b[0m\u001b[0;34m(\u001b[0m\u001b[0;34m\"bottom_shelf\"\u001b[0m\u001b[0;34m)\u001b[0m\u001b[0;34m\u001b[0m\u001b[0;34m\u001b[0m\u001b[0m\n\u001b[1;32m     16\u001b[0m \u001b[0mprint\u001b[0m\u001b[0;34m(\u001b[0m\u001b[0;34m\"Mid\"\u001b[0m\u001b[0;34m)\u001b[0m\u001b[0;34m\u001b[0m\u001b[0;34m\u001b[0m\u001b[0m\n",
      "\u001b[0;32m/var/folders/4v/_zy9zlp16734lmyjlg40wsn80000gn/T/ipykernel_41773/572372541.py\u001b[0m in \u001b[0;36mplot_rssi\u001b[0;34m(position)\u001b[0m\n\u001b[1;32m     27\u001b[0m             \u001b[0;32mif\u001b[0m \u001b[0mmrt\u001b[0m \u001b[0;32mis\u001b[0m \u001b[0;32mnot\u001b[0m \u001b[0;32mNone\u001b[0m\u001b[0;34m:\u001b[0m\u001b[0;34m\u001b[0m\u001b[0;34m\u001b[0m\u001b[0m\n\u001b[1;32m     28\u001b[0m                 \u001b[0mmrt_readings_xs\u001b[0m\u001b[0;34m.\u001b[0m\u001b[0mappend\u001b[0m\u001b[0;34m(\u001b[0m\u001b[0mmois_level\u001b[0m\u001b[0;34m)\u001b[0m\u001b[0;34m\u001b[0m\u001b[0;34m\u001b[0m\u001b[0m\n\u001b[0;32m---> 29\u001b[0;31m                 \u001b[0mmrt_readings\u001b[0m\u001b[0;34m.\u001b[0m\u001b[0mappend\u001b[0m\u001b[0;34m(\u001b[0m\u001b[0mstatistics\u001b[0m\u001b[0;34m.\u001b[0m\u001b[0mmean\u001b[0m\u001b[0;34m(\u001b[0m\u001b[0;34m[\u001b[0m\u001b[0mtag\u001b[0m\u001b[0;34m]\u001b[0m\u001b[0;34m)\u001b[0m\u001b[0;34m)\u001b[0m\u001b[0;34m\u001b[0m\u001b[0;34m\u001b[0m\u001b[0m\n\u001b[0m\u001b[1;32m     30\u001b[0m \u001b[0;34m\u001b[0m\u001b[0m\n\u001b[1;32m     31\u001b[0m         \u001b[0mrssi_xs\u001b[0m\u001b[0;34m.\u001b[0m\u001b[0mappend\u001b[0m\u001b[0;34m(\u001b[0m\u001b[0mrssi_readings_xs\u001b[0m\u001b[0;34m)\u001b[0m\u001b[0;34m\u001b[0m\u001b[0;34m\u001b[0m\u001b[0m\n",
      "\u001b[0;32m/usr/local/Cellar/python@3.9/3.9.1_1/Frameworks/Python.framework/Versions/3.9/lib/python3.9/statistics.py\u001b[0m in \u001b[0;36mmean\u001b[0;34m(data)\u001b[0m\n\u001b[1;32m    314\u001b[0m     \u001b[0;32mif\u001b[0m \u001b[0mn\u001b[0m \u001b[0;34m<\u001b[0m \u001b[0;36m1\u001b[0m\u001b[0;34m:\u001b[0m\u001b[0;34m\u001b[0m\u001b[0;34m\u001b[0m\u001b[0m\n\u001b[1;32m    315\u001b[0m         \u001b[0;32mraise\u001b[0m \u001b[0mStatisticsError\u001b[0m\u001b[0;34m(\u001b[0m\u001b[0;34m'mean requires at least one data point'\u001b[0m\u001b[0;34m)\u001b[0m\u001b[0;34m\u001b[0m\u001b[0;34m\u001b[0m\u001b[0m\n\u001b[0;32m--> 316\u001b[0;31m     \u001b[0mT\u001b[0m\u001b[0;34m,\u001b[0m \u001b[0mtotal\u001b[0m\u001b[0;34m,\u001b[0m \u001b[0mcount\u001b[0m \u001b[0;34m=\u001b[0m \u001b[0m_sum\u001b[0m\u001b[0;34m(\u001b[0m\u001b[0mdata\u001b[0m\u001b[0;34m)\u001b[0m\u001b[0;34m\u001b[0m\u001b[0;34m\u001b[0m\u001b[0m\n\u001b[0m\u001b[1;32m    317\u001b[0m     \u001b[0;32massert\u001b[0m \u001b[0mcount\u001b[0m \u001b[0;34m==\u001b[0m \u001b[0mn\u001b[0m\u001b[0;34m\u001b[0m\u001b[0;34m\u001b[0m\u001b[0m\n\u001b[1;32m    318\u001b[0m     \u001b[0;32mreturn\u001b[0m \u001b[0m_convert\u001b[0m\u001b[0;34m(\u001b[0m\u001b[0mtotal\u001b[0m \u001b[0;34m/\u001b[0m \u001b[0mn\u001b[0m\u001b[0;34m,\u001b[0m \u001b[0mT\u001b[0m\u001b[0;34m)\u001b[0m\u001b[0;34m\u001b[0m\u001b[0;34m\u001b[0m\u001b[0m\n",
      "\u001b[0;32m/usr/local/Cellar/python@3.9/3.9.1_1/Frameworks/Python.framework/Versions/3.9/lib/python3.9/statistics.py\u001b[0m in \u001b[0;36m_sum\u001b[0;34m(data, start)\u001b[0m\n\u001b[1;32m    164\u001b[0m     \u001b[0;32mfor\u001b[0m \u001b[0mtyp\u001b[0m\u001b[0;34m,\u001b[0m \u001b[0mvalues\u001b[0m \u001b[0;32min\u001b[0m \u001b[0mgroupby\u001b[0m\u001b[0;34m(\u001b[0m\u001b[0mdata\u001b[0m\u001b[0;34m,\u001b[0m \u001b[0mtype\u001b[0m\u001b[0;34m)\u001b[0m\u001b[0;34m:\u001b[0m\u001b[0;34m\u001b[0m\u001b[0;34m\u001b[0m\u001b[0m\n\u001b[1;32m    165\u001b[0m         \u001b[0mT\u001b[0m \u001b[0;34m=\u001b[0m \u001b[0m_coerce\u001b[0m\u001b[0;34m(\u001b[0m\u001b[0mT\u001b[0m\u001b[0;34m,\u001b[0m \u001b[0mtyp\u001b[0m\u001b[0;34m)\u001b[0m  \u001b[0;31m# or raise TypeError\u001b[0m\u001b[0;34m\u001b[0m\u001b[0;34m\u001b[0m\u001b[0m\n\u001b[0;32m--> 166\u001b[0;31m         \u001b[0;32mfor\u001b[0m \u001b[0mn\u001b[0m\u001b[0;34m,\u001b[0m \u001b[0md\u001b[0m \u001b[0;32min\u001b[0m \u001b[0mmap\u001b[0m\u001b[0;34m(\u001b[0m\u001b[0m_exact_ratio\u001b[0m\u001b[0;34m,\u001b[0m \u001b[0mvalues\u001b[0m\u001b[0;34m)\u001b[0m\u001b[0;34m:\u001b[0m\u001b[0;34m\u001b[0m\u001b[0;34m\u001b[0m\u001b[0m\n\u001b[0m\u001b[1;32m    167\u001b[0m             \u001b[0mcount\u001b[0m \u001b[0;34m+=\u001b[0m \u001b[0;36m1\u001b[0m\u001b[0;34m\u001b[0m\u001b[0;34m\u001b[0m\u001b[0m\n\u001b[1;32m    168\u001b[0m             \u001b[0mpartials\u001b[0m\u001b[0;34m[\u001b[0m\u001b[0md\u001b[0m\u001b[0;34m]\u001b[0m \u001b[0;34m=\u001b[0m \u001b[0mpartials_get\u001b[0m\u001b[0;34m(\u001b[0m\u001b[0md\u001b[0m\u001b[0;34m,\u001b[0m \u001b[0;36m0\u001b[0m\u001b[0;34m)\u001b[0m \u001b[0;34m+\u001b[0m \u001b[0mn\u001b[0m\u001b[0;34m\u001b[0m\u001b[0;34m\u001b[0m\u001b[0m\n",
      "\u001b[0;32m/usr/local/Cellar/python@3.9/3.9.1_1/Frameworks/Python.framework/Versions/3.9/lib/python3.9/statistics.py\u001b[0m in \u001b[0;36m_exact_ratio\u001b[0;34m(x)\u001b[0m\n\u001b[1;32m    246\u001b[0m         \u001b[0;32mreturn\u001b[0m \u001b[0;34m(\u001b[0m\u001b[0mx\u001b[0m\u001b[0;34m,\u001b[0m \u001b[0;32mNone\u001b[0m\u001b[0;34m)\u001b[0m\u001b[0;34m\u001b[0m\u001b[0;34m\u001b[0m\u001b[0m\n\u001b[1;32m    247\u001b[0m     \u001b[0mmsg\u001b[0m \u001b[0;34m=\u001b[0m \u001b[0;34m\"can't convert type '{}' to numerator/denominator\"\u001b[0m\u001b[0;34m\u001b[0m\u001b[0;34m\u001b[0m\u001b[0m\n\u001b[0;32m--> 248\u001b[0;31m     \u001b[0;32mraise\u001b[0m \u001b[0mTypeError\u001b[0m\u001b[0;34m(\u001b[0m\u001b[0mmsg\u001b[0m\u001b[0;34m.\u001b[0m\u001b[0mformat\u001b[0m\u001b[0;34m(\u001b[0m\u001b[0mtype\u001b[0m\u001b[0;34m(\u001b[0m\u001b[0mx\u001b[0m\u001b[0;34m)\u001b[0m\u001b[0;34m.\u001b[0m\u001b[0m__name__\u001b[0m\u001b[0;34m)\u001b[0m\u001b[0;34m)\u001b[0m\u001b[0;34m\u001b[0m\u001b[0;34m\u001b[0m\u001b[0m\n\u001b[0m\u001b[1;32m    249\u001b[0m \u001b[0;34m\u001b[0m\u001b[0m\n\u001b[1;32m    250\u001b[0m \u001b[0;34m\u001b[0m\u001b[0m\n",
      "\u001b[0;31mTypeError\u001b[0m: can't convert type 'str' to numerator/denominator"
     ]
    }
   ],
   "source": [
    "# compiled_rssi_readings: Dict[str, dict] = defaultdict(dict)\n",
    "\n",
    "# for key in keys:\n",
    "#     rssi_readings: tuple = plot_rssi(key)\n",
    "#     rssi_ys: np.ndarray = np.array(rssi_readings[0])\n",
    "#     peak_rssi_ys: np.ndarray = np.array(rssi_readings[1])\n",
    "#     mrt_ys: np.ndarray = np.array(rssi_readings[2])\n",
    "#     compiled_rssi_readings[key] = {\n",
    "#         \"rssi\": rssi_ys,\n",
    "#         \"peak_rssi\": peak_rssi_ys,\n",
    "#         \"mrt\": mrt_ys\n",
    "#     }\n",
    "print(\"Bottom\")\n",
    "plot_rssi(\"bottom_boxes\")\n",
    "plot_rssi(\"bottom_shelf\")\n",
    "print(\"Mid\")\n",
    "plot_rssi(\"mid_boxes\")\n",
    "plot_rssi(\"mid_shelf\")\n",
    "print(\"Top\")\n",
    "plot_rssi(\"top_boxes\")\n",
    "plot_rssi(\"top_shelf\")"
   ]
  },
  {
   "cell_type": "code",
   "execution_count": 28,
   "metadata": {},
   "outputs": [
    {
     "ename": "NameError",
     "evalue": "name 'compiled_rssi_readings' is not defined",
     "output_type": "error",
     "traceback": [
      "\u001b[0;31m---------------------------------------------------------------------------\u001b[0m",
      "\u001b[0;31mNameError\u001b[0m                                 Traceback (most recent call last)",
      "\u001b[0;32m/var/folders/4v/_zy9zlp16734lmyjlg40wsn80000gn/T/ipykernel_41773/932847648.py\u001b[0m in \u001b[0;36m<module>\u001b[0;34m\u001b[0m\n\u001b[0;32m----> 1\u001b[0;31m \u001b[0mcompiled_rssi_readings\u001b[0m\u001b[0;34m\u001b[0m\u001b[0;34m\u001b[0m\u001b[0m\n\u001b[0m",
      "\u001b[0;31mNameError\u001b[0m: name 'compiled_rssi_readings' is not defined"
     ]
    }
   ],
   "source": [
    "compiled_rssi_readings"
   ]
  },
  {
   "cell_type": "code",
   "execution_count": 69,
   "metadata": {},
   "outputs": [],
   "source": [
    "bottom_boxes_mrt: np.ndarray = compiled_rssi_readings[\"bottom_boxes\"][\"mrt\"]"
   ]
  },
  {
   "cell_type": "code",
   "execution_count": null,
   "metadata": {},
   "outputs": [],
   "source": []
  }
 ],
 "metadata": {
  "interpreter": {
   "hash": "c30f2af5f468e7f5b45bcc30fca5f4886c90d54777aed916ed5f6294dfb24bf2"
  },
  "kernelspec": {
   "display_name": "Python 3.8.11 ('base')",
   "language": "python",
   "name": "python3"
  },
  "language_info": {
   "codemirror_mode": {
    "name": "ipython",
    "version": 3
   },
   "file_extension": ".py",
   "mimetype": "text/x-python",
   "name": "python",
   "nbconvert_exporter": "python",
   "pygments_lexer": "ipython3",
   "version": "3.9.1"
  },
  "orig_nbformat": 4
 },
 "nbformat": 4,
 "nbformat_minor": 2
}
