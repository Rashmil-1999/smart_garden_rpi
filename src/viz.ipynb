{
 "cells": [
  {
   "cell_type": "code",
   "execution_count": 1,
   "metadata": {},
   "outputs": [],
   "source": [
    "from typing import Dict, List, Optional, Tuple\n",
    "\n",
    "import matplotlib.pyplot as plt\n",
    "from matplotlib.pyplot import Axes\n",
    "import numpy as np\n",
    "import pathlib\n",
    "from utils import read_json, write_json\n",
    "from collections import defaultdict\n",
    "import statistics\n",
    "\n",
    "from constants import RFID_DATA_FOLDER"
   ]
  },
  {
   "cell_type": "code",
   "execution_count": 2,
   "metadata": {},
   "outputs": [],
   "source": [
    "automated_testing_folder: pathlib.Path = RFID_DATA_FOLDER / \"automated_test\"\n",
    "time_str_tested: pathlib.Path = \"20220430-171258\"\n",
    "data_folder: pathlib.Path = automated_testing_folder / time_str_tested\n",
    "\n",
    "keys: List[str] = [\n",
    "    \"bottom_boxes\", \n",
    "    \"bottom_shelf\", \n",
    "    \"mid_boxes\", \n",
    "    \"mid_shelf\", \n",
    "    \"top_boxes\", \n",
    "    \"top_shelf\"\n",
    "]\n",
    "\n",
    "moistures: List[str] = [\n",
    "    '0',\n",
    "]"
   ]
  },
  {
   "cell_type": "code",
   "execution_count": 3,
   "metadata": {},
   "outputs": [
    {
     "name": "stdout",
     "output_type": "stream",
     "text": [
      "/Users/rashmilpanchani/Documents/Projects/smart_garden/src/rpi_io/sllurp-measurements/data/automated_test/20220430-171258\n"
     ]
    }
   ],
   "source": [
    "print(data_folder)\n",
    "# print(RFID_DATA_FOLDER)"
   ]
  },
  {
   "cell_type": "code",
   "execution_count": 4,
   "metadata": {},
   "outputs": [],
   "source": [
    "def read_data_folder(base_dir: pathlib.Path, keys_list: List[str]) -> Dict[str, dict]: \n",
    "    moisture_level_folders: List[pathlib.Path] = [path for path in base_dir.iterdir() if path.is_dir()]\n",
    "    complete_data: Dict[str, dict] = dict()\n",
    "\n",
    "    for path in moisture_level_folders:\n",
    "        if path.name == \"automated_test\":\n",
    "            continue\n",
    "        complete_data[path.name] = dict()\n",
    "        for file in keys_list:\n",
    "            data: dict = read_json(path / (file + \".json\"))\n",
    "            complete_data[path.name][file] = data\n",
    "    \n",
    "    return complete_data\n",
    "\n",
    "def read_new_data_folder(base_dir: pathlib.Path, key_list: List[str], moistures: List[str]) -> Dict[str, dict]: \n",
    "    # moisture_level_folders: List[pathlib.Path] = [path for path in base_dir.iterdir()]\n",
    "    complete_data: Dict[str, dict] = dict()\n",
    "\n",
    "    for mois in moistures:\n",
    "        name: str = str(mois) + \"percent\"\n",
    "        complete_data[name] = dict()\n",
    "        for file in key_list:\n",
    "            data: dict = read_json(base_dir / (name + file + \".json\"))\n",
    "            complete_data[name][file] = data\n",
    "    \n",
    "    return complete_data"
   ]
  },
  {
   "cell_type": "code",
   "execution_count": 5,
   "metadata": {},
   "outputs": [],
   "source": [
    "# complete_data: Dict[str, dict] = read_data_folder(RFID_DATA_FOLDER, keys)\n",
    "complete_data_new: Dict[str, dict] = read_new_data_folder(data_folder, [\"mid_boxes\"], moistures)"
   ]
  },
  {
   "cell_type": "code",
   "execution_count": null,
   "metadata": {},
   "outputs": [],
   "source": [
    "print(complete_data_new)"
   ]
  },
  {
   "cell_type": "code",
   "execution_count": 6,
   "metadata": {},
   "outputs": [
    {
     "name": "stdout",
     "output_type": "stream",
     "text": [
      "dict_keys(['0percent'])\n",
      "dict_keys(['mid_boxes'])\n",
      "dict_keys(['min_Tx_power', 'rssi_vals'])\n",
      "dict_keys(['e280689000000001a2f9fb4d', 'e280689000000001a2f9e48e', 'e280689000000001a33707c4', 'e280689000000001a2fa42ac'])\n",
      "dict_keys(['e280689000000001a33707c4', 'e280689000000001a2fa42ac', 'e280689000000001a2f9e48e', 'e280689000000001a2f9fb4d', 'e280689000000001a2fa42ca'])\n",
      "dict_keys(['tag_info', 'peak_rssi', 'rssi'])\n",
      "[-48, -47, -43, -43, -48, -47, -46, -46, -50, -48, -43, -43, -48, -43, -43, -46, -42, -42, -42, -46, -44, -42, -42, -42, -49, -49, -48, -43, -49, -45, -45, -42, -50, -49, -53, -48, -46, -46, -46, -46, -48, -49, -52, -51, -52, -46, -52, -46, -46, -52, -46, -43, -44, -48, -43, -43, -46, -46, -49, -51, -42, -49, -46, -46, -48, -48, -48, -43, -48, -46, -46, -46, -50, -48, -43, -43, -48, -43, -43, -42, -42, -43, -42, -46, -44, -42, -42, -42, -50, -50, -48, -48, -43, -49, -45, -42, -50, -50, -53, -48, -46, -46, -46, -46, -48, -42, -42, -52, -51, -46, -46, -52, -46, -46, -52, -46, -43, -43, -48, -51, -43, -43, -46, -49, -50, -42, -42, -49, -46, -46, -48, -47, -48, -43, -48, -47, -46, -46, -51, -49, -49, -43, -49, -43, -42, -46, -42, -42, -43, -46, -44, -42, -42, -43, -43, -50, -49, -48, -43, -43, -48, -46, -42, -42, -50, -49, -49, -46, -46, -46, -46, -48, -41, -52, -52, -46, -46, -52, -46, -52, -46, -46, -43, -48, -49, -52, -43, -46, -46, -49, -51, -42, -42]\n"
     ]
    }
   ],
   "source": [
    "# print(complete_data.keys())\n",
    "# print(complete_data[\"0percent\"].keys())\n",
    "# print(complete_data[\"0percent\"][\"bottom_boxes\"].keys())\n",
    "# print(complete_data[\"0percent\"][\"bottom_boxes\"][\"min_Tx_power\"].keys())\n",
    "# print(complete_data[\"0percent\"][\"bottom_boxes\"][\"rssi_vals\"].keys())\n",
    "# print(complete_data[\"0percent\"][\"bottom_boxes\"][\"rssi_vals\"][\"e280689000000001a33707c4\"].keys())\n",
    "\n",
    "print(complete_data_new.keys())\n",
    "print(complete_data_new[\"0percent\"].keys())\n",
    "print(complete_data_new[\"0percent\"][\"mid_boxes\"].keys())\n",
    "print(complete_data_new[\"0percent\"][\"mid_boxes\"][\"min_Tx_power\"].keys())\n",
    "print(complete_data_new[\"0percent\"][\"mid_boxes\"][\"rssi_vals\"].keys())\n",
    "print(complete_data_new[\"0percent\"][\"mid_boxes\"][\"rssi_vals\"][\"e280689000000001a33707c4\"].keys())\n",
    "print(complete_data_new[\"0percent\"][\"mid_boxes\"][\"rssi_vals\"][\"e280689000000001a33707c4\"][\"peak_rssi\"])\n"
   ]
  },
  {
   "cell_type": "code",
   "execution_count": 7,
   "metadata": {},
   "outputs": [],
   "source": [
    "# tag_list = ['e280689000000001a33707c4', 'e280689000000001a2fa42ca', 'e280689000000001a2fa42ac', 'e280689000000001a2f9e48e']\n",
    "tag_list = ['e280689000000001a33707c4', 'e280689000000001a2f9fb4d', 'e280689000000001a2fa42ac', 'e280689000000001a2f9e48e']\n",
    "position = \"mid_boxes\"\n",
    "# xs = [0, 8, 20, 40, 70, 80, 90]\n",
    "xs = [0]"
   ]
  },
  {
   "cell_type": "code",
   "execution_count": 8,
   "metadata": {},
   "outputs": [
    {
     "name": "stdout",
     "output_type": "stream",
     "text": [
      "{'e280689000000001a33707c4': {'tag': 'tag_3', 'EPC-96': 'e280689000000001a33707c4', 'location': 'bottom_front'}, 'e280689000000001a2f9fb4d': {'tag': 'tag_5', 'EPC-96': 'e280689000000001a2f9fb4d', 'location': 'air'}, 'e280689000000001a2fa42ac': {'tag': 'tag_4', 'EPC-96': 'e280689000000001a2fa42ac', 'location': 'bottom_back'}, 'e280689000000001a2f9e48e': {'tag': 'tag_2', 'EPC-96': 'e280689000000001a2f9e48e', 'location': 'rim'}}\n"
     ]
    }
   ],
   "source": [
    "tag_info: dict = dict()\n",
    "for _, tag in enumerate(tag_list):\n",
    "    tag_info[tag] = complete_data_new[f\"{xs[0]}percent\"][position][\"rssi_vals\"][tag][\"tag_info\"]\n",
    "print(tag_info)"
   ]
  },
  {
   "cell_type": "code",
   "execution_count": 9,
   "metadata": {},
   "outputs": [],
   "source": [
    "def plot_rssi(position: str) -> Tuple[List[float], List[float], List[float]]:\n",
    "    global tag_list, complete_data_new, xs    \n",
    "    # rssi vals\n",
    "    rssi_ys = []\n",
    "    peak_rssi_ys = []\n",
    "    mrt_ys = []\n",
    "    for tag in tag_list:\n",
    "        rssi_readings = []\n",
    "        peak_rssi_readings = []\n",
    "        mrt_readings = []\n",
    "        for mois_level in xs:\n",
    "            rssi_readings.append(statistics.mean(complete_data_new[f\"{mois_level}percent\"][position][\"rssi_vals\"][tag][\"rssi\"]))\n",
    "            peak_rssi_readings.append(statistics.mean(complete_data_new[f\"{mois_level}percent\"][position][\"rssi_vals\"][tag][\"peak_rssi\"]))\n",
    "            mrt_readings.append(statistics.mean(complete_data_new[f\"{mois_level}percent\"][position][\"min_Tx_power\"][tag]))\n",
    "        rssi_ys.append(rssi_readings)\n",
    "        peak_rssi_ys.append(peak_rssi_readings)\n",
    "        mrt_ys.append(mrt_readings)\n",
    "\n",
    "    axes: Optional[Axes] = None \n",
    "\n",
    "    fig, axes = plt.subplots(1,3, figsize=(20,5))\n",
    "\n",
    "    for i, tag in enumerate(tag_list):\n",
    "        # print(complete_data[f\"{xs[i]}percent\"][position][\"rssi_vals\"][tag][\"tag_info\"][\"location\"])\n",
    "        axes[0].plot(xs, rssi_ys[i], label=complete_data_new[f\"{xs[0]}percent\"][position][\"rssi_vals\"][tag][\"tag_info\"][\"location\"])\n",
    "    axes[0].set_title(\"RSSI values\")\n",
    "    axes[0].legend()\n",
    "\n",
    "    for i, tag in enumerate(tag_list):\n",
    "        # print(complete_data[f\"{xs[i]}percent\"][position][\"rssi_vals\"][tag][\"tag_info\"][\"location\"])\n",
    "        axes[1].plot(xs, peak_rssi_ys[i], label=complete_data_new[f\"{xs[0]}percent\"][position][\"rssi_vals\"][tag][\"tag_info\"][\"location\"])\n",
    "    axes[1].set_title(\"Peak RSSI values\")\n",
    "    axes[1].legend()\n",
    "    \n",
    "    for i, tag in enumerate(tag_list):\n",
    "        # print(complete_data[f\"{xs[i]}percent\"][position][\"rssi_vals\"][tag][\"tag_info\"][\"location\"])\n",
    "        axes[2].plot(xs, mrt_ys[i], label=complete_data_new[f\"{xs[0]}percent\"][position][\"rssi_vals\"][tag][\"tag_info\"][\"location\"])\n",
    "    axes[2].set_title(\"Minimum Response Threshold\")\n",
    "    axes[2].legend()\n",
    "    # fig.show()\n",
    "    plt.suptitle(position)\n",
    "    return rssi_ys, peak_rssi_ys, mrt_ys"
   ]
  },
  {
   "cell_type": "code",
   "execution_count": 10,
   "metadata": {},
   "outputs": [
    {
     "data": {
      "text/plain": [
       "([[-46.468911917098445],\n",
       "  [-53.1580310880829],\n",
       "  [-52.557291666666664],\n",
       "  [-48.87823834196891]],\n",
       " [[-46.233160621761655],\n",
       "  [-52.89119170984456],\n",
       "  [-52.296875],\n",
       "  [-48.626943005181346]],\n",
       " [[14.05], [11.15], [20.35], [11.5]])"
      ]
     },
     "execution_count": 10,
     "metadata": {},
     "output_type": "execute_result"
    },
    {
     "data": {
      "image/png": "[encoded data removed]",
      "text/plain": [
       "<Figure size 1440x360 with 3 Axes>"
      ]
     },
     "metadata": {
      "needs_background": "light"
     },
     "output_type": "display_data"
    }
   ],
   "source": [
    "# compiled_rssi_readings: Dict[str, dict] = defaultdict(dict)\n",
    "\n",
    "# for key in keys:\n",
    "#     rssi_readings: tuple = plot_rssi(key)\n",
    "#     rssi_ys: np.ndarray = np.array(rssi_readings[0])\n",
    "#     peak_rssi_ys: np.ndarray = np.array(rssi_readings[1])\n",
    "#     mrt_ys: np.ndarray = np.array(rssi_readings[2])\n",
    "#     compiled_rssi_readings[key] = {\n",
    "#         \"rssi\": rssi_ys,\n",
    "#         \"peak_rssi\": peak_rssi_ys,\n",
    "#         \"mrt\": mrt_ys\n",
    "#     }\n",
    "# plot_rssi(\"bottom_shelf\")\n",
    "# print(\"Mid\")\n",
    "plot_rssi(\"mid_boxes\")\n",
    "# plot_rssi(\"mid_shelf\")\n",
    "# print(\"Top\")\n",
    "# plot_rssi(\"top_boxes\")\n",
    "# plot_rssi(\"top_shelf\")"
   ]
  },
  {
   "cell_type": "code",
   "execution_count": 68,
   "metadata": {},
   "outputs": [
    {
     "data": {
      "text/plain": [
       "defaultdict(dict,\n",
       "            {'bottom_boxes': {'rssi': array([[-43.5, -40.5, -44.5, -45.5, -52.5, -47.5, -49. ],\n",
       "                     [-44. , -43.5, -47.5, -47.5, -49.5, -48. , -47. ],\n",
       "                     [-46.5, -43. , -47. , -46.5, -50.5, -40.5, -47.5],\n",
       "                     [-63. , -53. , -50.5, -42. , -50.5, -44. , -51. ]]),\n",
       "              'peak_rssi': array([[-43, -40, -44, -45, -52, -47, -49],\n",
       "                     [-44, -43, -47, -47, -49, -48, -47],\n",
       "                     [-46, -43, -47, -46, -50, -40, -47],\n",
       "                     [-63, -53, -50, -42, -50, -44, -51]]),\n",
       "              'mrt': array([[10.25, 14.25, 18.25, 19.25, 22.  , 17.5 , 21.5 ],\n",
       "                     [10.25, 10.25, 10.25, 10.25, 10.5 , 10.25, 10.25],\n",
       "                     [12.25, 11.5 , 13.  , 15.25, 13.75, 12.5 , 14.75],\n",
       "                     [21.25, 19.5 , 17.25, 15.25, 13.75, 16.  , 17.25]])},\n",
       "             'bottom_shelf': {'rssi': array([[-44. , -49. , -47.5, -55.5, -53. , -56.5, -58.5],\n",
       "                     [-50.5, -54. , -52. , -53. , -52. , -54.5, -56.5],\n",
       "                     [-41. , -48.5, -49.5, -57. , -53.5, -52. , -52.5],\n",
       "                     [-58. , -55.5, -54. , -51. , -57.5, -52. ,   nan]]),\n",
       "              'peak_rssi': array([[-44., -49., -47., -55., -53., -56., -58.],\n",
       "                     [-50., -54., -52., -53., -52., -54., -56.],\n",
       "                     [-41., -48., -49., -57., -53., -52., -52.],\n",
       "                     [-58., -55., -54., -51., -57., -52.,  nan]]),\n",
       "              'mrt': array([[10.5 , 19.  , 22.  , 19.5 , 22.  , 21.5 , 31.25],\n",
       "                     [14.75, 14.75, 12.5 , 14.5 , 15.25, 16.5 , 16.25],\n",
       "                     [11.5 , 16.  , 20.  , 23.75, 23.5 , 24.25, 19.75],\n",
       "                     [17.75, 17.  , 17.75, 16.25, 17.  , 21.25, 25.25]])},\n",
       "             'mid_boxes': {'rssi': array([[-45.5, -37.5, -32. , -37.5, -48.5, -44. , -49. ],\n",
       "                     [-45. , -45. , -45.5, -45. , -45. , -45.5, -44.5],\n",
       "                     [-41. , -46. , -40.5, -50.5, -54.5, -48.5, -39. ],\n",
       "                     [-40. , -42.5, -41.5, -38. , -44. , -38.5, -44. ]]),\n",
       "              'peak_rssi': array([[-45, -37, -32, -37, -48, -44, -49],\n",
       "                     [-45, -45, -45, -45, -45, -45, -44],\n",
       "                     [-41, -46, -40, -50, -54, -48, -39],\n",
       "                     [-40, -42, -41, -38, -44, -38, -44]]),\n",
       "              'mrt': array([[10.5 , 10.5 , 10.25, 12.75, 17.5 , 14.75, 18.5 ],\n",
       "                     [10.25, 10.25, 10.25, 10.  , 10.  , 10.  , 10.25],\n",
       "                     [11.25, 12.  , 12.5 , 13.25, 19.5 , 13.75, 10.75],\n",
       "                     [10.25, 10.  , 10.25, 10.25, 10.25, 10.25, 10.25]])},\n",
       "             'mid_shelf': {'rssi': array([[-33. , -34.5, -35. , -35.5, -52.5, -46.5, -42. ],\n",
       "                     [-38. , -47.5, -49.5, -50.5, -55. , -47.5, -51. ],\n",
       "                     [-34.5, -43.5, -47.5, -49.5, -56.5, -49. , -44. ],\n",
       "                     [-48.5, -45. , -40. , -32. , -56.5, -36. , -39. ]]),\n",
       "              'peak_rssi': array([[-33, -34, -35, -35, -52, -46, -42],\n",
       "                     [-38, -47, -49, -50, -55, -47, -51],\n",
       "                     [-34, -43, -47, -49, -56, -49, -44],\n",
       "                     [-48, -45, -40, -32, -56, -36, -39]]),\n",
       "              'mrt': array([[10.  , 10.  , 12.  , 10.75, 20.25, 18.  , 13.75],\n",
       "                     [10.25, 10.25, 10.25, 10.25, 13.5 , 11.5 , 10.25],\n",
       "                     [10.25, 10.25, 12.75, 14.  , 23.75, 17.5 , 13.  ],\n",
       "                     [10.25, 10.25, 10.  , 10.  , 17.  , 10.25, 10.  ]])},\n",
       "             'top_boxes': {'rssi': array([[-36. , -25. , -25. , -28.5, -41. , -36. , -47.5],\n",
       "                     [-41. , -38.5, -39.5, -40.5, -39. , -36.5, -39.5],\n",
       "                     [-37. , -43. , -45.5, -39.5, -48. , -52. , -38.5],\n",
       "                     [-33. , -32. , -29.5, -26. , -31.5, -26.5, -30.5]]),\n",
       "              'peak_rssi': array([[-36, -25, -25, -28, -41, -36, -47],\n",
       "                     [-41, -38, -39, -40, -39, -36, -39],\n",
       "                     [-37, -43, -45, -39, -48, -52, -38],\n",
       "                     [-33, -32, -29, -26, -31, -26, -30]]),\n",
       "              'mrt': array([[10.  , 10.  , 10.  , 10.  , 13.75, 12.75, 17.  ],\n",
       "                     [10.  , 10.  , 10.  , 10.25, 10.  , 10.  , 10.  ],\n",
       "                     [10.  , 10.25, 10.25, 11.  , 16.25, 19.5 , 10.25],\n",
       "                     [10.  , 10.  , 10.  , 10.  , 10.  , 10.  , 10.  ]])},\n",
       "             'top_shelf': {'rssi': array([[-29.5, -30.5, -25.5, -26. , -33.5, -38. , -42. ],\n",
       "                     [-48.5, -45.5, -43.5, -48.5, -49. , -54. , -50.5],\n",
       "                     [-27. , -27. , -29.5, -32. , -43. , -46.5, -38. ],\n",
       "                     [-33. , -30. , -26.5, -23.5, -30. , -26. , -30. ]]),\n",
       "              'peak_rssi': array([[-29, -30, -25, -26, -33, -38, -42],\n",
       "                     [-48, -45, -43, -48, -49, -54, -50],\n",
       "                     [-27, -27, -29, -32, -43, -46, -38],\n",
       "                     [-33, -30, -26, -23, -30, -26, -30]]),\n",
       "              'mrt': array([[10.  , 10.  , 10.  , 10.  , 10.75, 10.75, 12.75],\n",
       "                     [12.25, 12.5 , 11.75, 10.25, 11.  , 10.75, 10.25],\n",
       "                     [10.  , 10.  , 10.  , 10.  , 14.  , 13.75, 10.25],\n",
       "                     [10.  , 10.  , 10.  , 10.  , 10.  , 10.  , 10.  ]])}})"
      ]
     },
     "execution_count": 68,
     "metadata": {},
     "output_type": "execute_result"
    }
   ],
   "source": [
    "compiled_rssi_readings"
   ]
  },
  {
   "cell_type": "code",
   "execution_count": 69,
   "metadata": {},
   "outputs": [],
   "source": [
    "bottom_boxes_mrt: np.ndarray = compiled_rssi_readings[\"bottom_boxes\"][\"mrt\"]"
   ]
  },
  {
   "cell_type": "code",
   "execution_count": null,
   "metadata": {},
   "outputs": [],
   "source": []
  }
 ],
 "metadata": {
  "interpreter": {
   "hash": "c30f2af5f468e7f5b45bcc30fca5f4886c90d54777aed916ed5f6294dfb24bf2"
  },
  "kernelspec": {
   "display_name": "Python 3.8.11 ('base')",
   "language": "python",
   "name": "python3"
  },
  "language_info": {
   "codemirror_mode": {
    "name": "ipython",
    "version": 3
   },
   "file_extension": ".py",
   "mimetype": "text/x-python",
   "name": "python",
   "nbconvert_exporter": "python",
   "pygments_lexer": "ipython3",
   "version": "3.9.1"
  },
  "orig_nbformat": 4
 },
 "nbformat": 4,
 "nbformat_minor": 2
}
